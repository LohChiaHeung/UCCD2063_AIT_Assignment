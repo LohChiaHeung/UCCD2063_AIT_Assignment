{
 "cells": [
  {
   "cell_type": "markdown",
   "id": "d0bc7bd6-57c2-4e5d-8496-80aa84c999b5",
   "metadata": {},
   "source": [
    "*Python Library*\n"
   ]
  },
  {
   "cell_type": "code",
   "execution_count": null,
   "id": "c3f7a75c-659c-4751-9067-837439d36160",
   "metadata": {},
   "outputs": [],
   "source": [
    "#Python Libary\n",
    "import numpy as np\n",
    "import pandas as pd"
   ]
  }
 ],
 "metadata": {
  "kernelspec": {
   "display_name": "Python 3 (ipykernel)",
   "language": "python",
   "name": "python3"
  },
  "language_info": {
   "codemirror_mode": {
    "name": "ipython",
    "version": 3
   },
   "file_extension": ".py",
   "mimetype": "text/x-python",
   "name": "python",
   "nbconvert_exporter": "python",
   "pygments_lexer": "ipython3",
   "version": "3.11.7"
  }
 },
 "nbformat": 4,
 "nbformat_minor": 5
}
